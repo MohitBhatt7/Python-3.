{
  "nbformat": 4,
  "nbformat_minor": 0,
  "metadata": {
    "colab": {
      "provenance": [],
      "gpuType": "T4",
      "authorship_tag": "ABX9TyPaouDFHaS/9Yx4T7heXceZ",
      "include_colab_link": true
    },
    "kernelspec": {
      "name": "python3",
      "display_name": "Python 3"
    },
    "language_info": {
      "name": "python"
    },
    "accelerator": "GPU"
  },
  "cells": [
    {
      "cell_type": "markdown",
      "metadata": {
        "id": "view-in-github",
        "colab_type": "text"
      },
      "source": [
        "<a href=\"https://colab.research.google.com/github/MohitBhatt7/Python-3./blob/main/PythonTuts.ipynb\" target=\"_parent\"><img src=\"https://colab.research.google.com/assets/colab-badge.svg\" alt=\"Open In Colab\"/></a>"
      ]
    },
    {
      "cell_type": "markdown",
      "source": [
        "# Python tuts for AI/ML.\n"
      ],
      "metadata": {
        "id": "oGJ1CkYSQSPu"
      }
    },
    {
      "cell_type": "code",
      "source": [
        "Name = \"Mohit bhatt\"\n",
        "print(Name)"
      ],
      "metadata": {
        "colab": {
          "base_uri": "https://localhost:8080/"
        },
        "id": "QDvzzqoPf_d9",
        "outputId": "b9dcab6e-5ed1-4f0f-fcf9-2035e338bc83"
      },
      "execution_count": null,
      "outputs": [
        {
          "output_type": "stream",
          "name": "stdout",
          "text": [
            "Mohit bhatt\n"
          ]
        }
      ]
    },
    {
      "cell_type": "code",
      "source": [
        "Age = 22\n",
        "isStudent = True\n",
        "print(f\"Hey there, My name is {Name} and i am {Age} years old, also I am a B.tech student which is {isStudent}.\")"
      ],
      "metadata": {
        "colab": {
          "base_uri": "https://localhost:8080/"
        },
        "id": "13A9JXARgB-A",
        "outputId": "760ded82-a6b7-4728-f9cd-68a0ec2b8faf"
      },
      "execution_count": null,
      "outputs": [
        {
          "output_type": "stream",
          "name": "stdout",
          "text": [
            "Hey there, My name is Mohit bhatt and i am 22 years old, also I am a B.tech student which is True.\n"
          ]
        }
      ]
    },
    {
      "cell_type": "code",
      "source": [
        "Price = 12\n",
        "print(Price)"
      ],
      "metadata": {
        "colab": {
          "base_uri": "https://localhost:8080/"
        },
        "id": "Ye2Cq7sXo76K",
        "outputId": "8241bd3a-17a3-4cb9-b68a-0a1d380a9555"
      },
      "execution_count": null,
      "outputs": [
        {
          "output_type": "stream",
          "name": "stdout",
          "text": [
            "12\n"
          ]
        }
      ]
    },
    {
      "cell_type": "markdown",
      "source": [
        "# Numeric Data Types"
      ],
      "metadata": {
        "id": "87Ymi2rbqZzQ"
      }
    },
    {
      "cell_type": "code",
      "source": [
        "Price = 100\n",
        "print(Price)\n",
        "print(type(Price)) # To check data type."
      ],
      "metadata": {
        "colab": {
          "base_uri": "https://localhost:8080/"
        },
        "id": "AjXy3f1uqjOT",
        "outputId": "920fd486-120a-4afd-bf02-ec04664f1f22"
      },
      "execution_count": null,
      "outputs": [
        {
          "output_type": "stream",
          "name": "stdout",
          "text": [
            "100\n",
            "<class 'int'>\n"
          ]
        }
      ]
    },
    {
      "cell_type": "code",
      "source": [
        "price = 123.12\n",
        "print(price)\n",
        "print(type(price)) # To check data type."
      ],
      "metadata": {
        "colab": {
          "base_uri": "https://localhost:8080/"
        },
        "id": "U36SuPJKqwol",
        "outputId": "b974e102-7e4f-45df-f895-2f11b9c9916b"
      },
      "execution_count": null,
      "outputs": [
        {
          "output_type": "stream",
          "name": "stdout",
          "text": [
            "123.12\n",
            "<class 'float'>\n"
          ]
        }
      ]
    },
    {
      "cell_type": "code",
      "source": [
        "Complex = 2 + 4j\n",
        "print(Complex)\n",
        "print(type(Complex)) # To check datatype.\n",
        "print(Complex.real) # To print real part of complex number.\n",
        "print(Complex.imag)# To print imaginary part of complex number."
      ],
      "metadata": {
        "colab": {
          "base_uri": "https://localhost:8080/"
        },
        "id": "QgV_TfWurJBW",
        "outputId": "a34c3069-2132-4cf6-b9d5-560fa9cd81f1"
      },
      "execution_count": null,
      "outputs": [
        {
          "output_type": "stream",
          "name": "stdout",
          "text": [
            "(2+4j)\n",
            "<class 'complex'>\n",
            "2.0\n",
            "4.0\n"
          ]
        }
      ]
    },
    {
      "cell_type": "code",
      "source": [
        "isvalid = True # Boolean.\n",
        "print(5 > 3)"
      ],
      "metadata": {
        "colab": {
          "base_uri": "https://localhost:8080/"
        },
        "id": "AptmuRqOrRJB",
        "outputId": "7c861d7b-67ac-43af-c58b-517028b4e03b"
      },
      "execution_count": null,
      "outputs": [
        {
          "output_type": "stream",
          "name": "stdout",
          "text": [
            "True\n"
          ]
        }
      ]
    },
    {
      "cell_type": "markdown",
      "source": [
        "#Sequence Type\n"
      ],
      "metadata": {
        "id": "ufuzQIKfs6o7"
      }
    },
    {
      "cell_type": "code",
      "source": [
        "# List Data Type.\n",
        "\n",
        "Fruit = [\"apples\", \"Banana\", \"Cherry\"]\n",
        "print(Fruit)\n",
        "print(Fruit[0])\n",
        "print(Fruit[1])\n",
        "print(Fruit[2])\n"
      ],
      "metadata": {
        "colab": {
          "base_uri": "https://localhost:8080/"
        },
        "id": "HUeLP6svsdWE",
        "outputId": "17b39195-079a-442d-dcdd-967e6f8c4a33"
      },
      "execution_count": null,
      "outputs": [
        {
          "output_type": "stream",
          "name": "stdout",
          "text": [
            "['apples', 'Banana', 'Cherry']\n",
            "apples\n",
            "Banana\n",
            "Cherry\n"
          ]
        }
      ]
    },
    {
      "cell_type": "code",
      "source": [
        "# Tuple Data Type.\n",
        "\n",
        "Name = (\"Alice\", \"Trevor\", \"Terrence Tao\")\n",
        "print(Name)\n",
        "\n",
        "\n",
        "# Tuple operation.\n",
        "\n",
        "a = (1,2,3)\n",
        "\n",
        "print(a * 3) # Returns Three types in sequence making tuple.\n",
        "\n",
        "b = (4,5,6)\n",
        "print(a + b) # Tuple concatenation.\n",
        "\n"
      ],
      "metadata": {
        "colab": {
          "base_uri": "https://localhost:8080/"
        },
        "id": "IEqiu7xbtue-",
        "outputId": "dd70d615-3443-43c7-edbe-0409fe41d70e"
      },
      "execution_count": null,
      "outputs": [
        {
          "output_type": "stream",
          "name": "stdout",
          "text": [
            "('Alice', 'Trevor', 'Terrence Tao')\n",
            "(1, 2, 3, 1, 2, 3, 1, 2, 3)\n",
            "(1, 2, 3, 4, 5, 6)\n"
          ]
        }
      ]
    },
    {
      "cell_type": "markdown",
      "source": [
        "# Mapping Data Type/ Dictionary Data Type."
      ],
      "metadata": {
        "id": "yov6ScgoxR6H"
      }
    },
    {
      "cell_type": "code",
      "source": [
        "person = {\n",
        "    \"Name\": \"Terrence Tao\",\n",
        "    \"Age\": 20\n",
        "}\n",
        "\n",
        "print(person[\"Name\"])"
      ],
      "metadata": {
        "colab": {
          "base_uri": "https://localhost:8080/"
        },
        "id": "Ihtfdgovxl27",
        "outputId": "5a80ecbd-6fda-4a7f-fd94-19e2bb923904"
      },
      "execution_count": null,
      "outputs": [
        {
          "output_type": "stream",
          "name": "stdout",
          "text": [
            "Terrence Tao\n"
          ]
        }
      ]
    },
    {
      "cell_type": "markdown",
      "source": [
        "# Set Data Types."
      ],
      "metadata": {
        "id": "ytBwXv1jy3hN"
      }
    },
    {
      "cell_type": "code",
      "source": [
        "# Mutable\n",
        "\n",
        "Feelings = {\"Angry\", \"Sad\",\"Happy\"}\n",
        "Feelings.add(\"Emotional\")\n",
        "print(Feelings)\n",
        "\n",
        "# Immutable/Frozen Set.\n",
        "\n",
        "Colours = frozenset([\"Yellow\", \"Red\", \"Green\"])\n",
        "print(Colours)"
      ],
      "metadata": {
        "colab": {
          "base_uri": "https://localhost:8080/"
        },
        "id": "cn7rbQW_y8m0",
        "outputId": "551a7cfb-3102-4f86-8697-cbeb60d1a0e2"
      },
      "execution_count": null,
      "outputs": [
        {
          "output_type": "stream",
          "name": "stdout",
          "text": [
            "{'Happy', 'Angry', 'Emotional', 'Sad'}\n",
            "frozenset({'Red', 'Green', 'Yellow'})\n"
          ]
        }
      ]
    },
    {
      "cell_type": "code",
      "source": [],
      "metadata": {
        "id": "Yb-uhk4_zWkM"
      },
      "execution_count": null,
      "outputs": []
    },
    {
      "cell_type": "markdown",
      "source": [
        "# Operators(Small project based tut.)"
      ],
      "metadata": {
        "id": "npo1flurzxOe"
      }
    },
    {
      "cell_type": "code",
      "source": [
        "A = int(input(\"Enter the number A = \"))\n",
        "B = int(input(\"Enter the number B = \"))\n",
        "\n",
        "Operator = str(input(\"Enter the operation you want to perform:- \"))\n",
        "\n",
        "if(Operator == '+'):\n",
        "  print(f\"The sum of the two numbers {A} and {B} is:- {A + B}\")\n",
        "\n",
        "elif(Operator == '-'):\n",
        "  print(f\"The difference of the two numbers {A} and {B} is:- {A - B}\")\n",
        "\n",
        "elif(Operator == '*'):\n",
        "  print(f\"The product of the two numbers {A} and {B} is:- {A * B}\")\n",
        "\n",
        "elif(Operator == '/'):\n",
        "  print(f\"The division of the two numbers {A} by {B} is:- {A / B}\")\n",
        "\n",
        "elif(Operator == '//'):\n",
        "  print(f\"The floor division of the two numbers {A} by {B} is:- {A // B}\")\n",
        "\n",
        "elif(Operator == '%'):\n",
        "  print(f\"The modulus of the two numbers {A} and {B} is:- {A % B}\")\n",
        "\n",
        "elif(Operator == '**'):\n",
        "  print(f\"The exponentiiation of the two numbers {A} and {B} is:- {A ** B}\")\n",
        "\n",
        "else:\n",
        "  print(\"Please enter valid operator.\")\n"
      ],
      "metadata": {
        "colab": {
          "base_uri": "https://localhost:8080/"
        },
        "id": "7GqNAmBkz6Qp",
        "outputId": "1d2477bc-0a56-4877-dc91-8ca3636d43fb"
      },
      "execution_count": null,
      "outputs": [
        {
          "output_type": "stream",
          "name": "stdout",
          "text": [
            "Enter the number A = 2\n",
            "Enter the number B = 2\n",
            "Enter the operation you want to perform:- +\n",
            "The sum of the two numbers 2 and 2 is:- 4\n"
          ]
        }
      ]
    },
    {
      "cell_type": "markdown",
      "source": [
        "# Nested if-else statement."
      ],
      "metadata": {
        "id": "GnOBcojEQTLW"
      }
    },
    {
      "cell_type": "code",
      "source": [
        "Age = int(input(\"Enter the age:- \"))\n",
        "isCitizen = True\n",
        "\n",
        "if(Age >= 18):\n",
        "  if(isCitizen):\n",
        "    print(\"You are eligible to vote.\")\n",
        "\n",
        "  else:\n",
        "    print(\"You must be the citizen to vote\")\n",
        "\n",
        "else:\n",
        "  print(\"You are young to vote, Not eligible.\")"
      ],
      "metadata": {
        "colab": {
          "base_uri": "https://localhost:8080/"
        },
        "id": "hw-SIoEYQYSD",
        "outputId": "9d75d5aa-2334-4e5c-80a0-34da510796b8"
      },
      "execution_count": null,
      "outputs": [
        {
          "output_type": "stream",
          "name": "stdout",
          "text": [
            "Enter the age:- 20\n",
            "You are eligible to vote.\n"
          ]
        }
      ]
    },
    {
      "cell_type": "markdown",
      "source": [
        "# Loops\n"
      ],
      "metadata": {
        "id": "oleoruv3grfH"
      }
    },
    {
      "cell_type": "code",
      "source": [
        "# Iterating over the lists.\n",
        "Fruits = {\"Apple\", \"Banana\", \"Cherry\", \"Avogadro\", \"Mango\"}\n",
        "for x in Fruits:\n",
        "  print(x)\n",
        "\n",
        "\n"
      ],
      "metadata": {
        "id": "-RFWywL4gtNX",
        "colab": {
          "base_uri": "https://localhost:8080/"
        },
        "outputId": "0fdbc431-dec4-43c0-9d4e-b411492f84d0"
      },
      "execution_count": null,
      "outputs": [
        {
          "output_type": "stream",
          "name": "stdout",
          "text": [
            "Apple\n",
            "Cherry\n",
            "Mango\n",
            "Banana\n",
            "Avogadro\n",
            "0\n",
            "1\n",
            "2\n"
          ]
        }
      ]
    },
    {
      "cell_type": "code",
      "source": [
        "# Iterating over the dictionary.\n",
        "Person = {\"Name\": \"Terrence\", \"Age\": 19}\n",
        "for key,value in Person.items():\n",
        "  print(key, value)"
      ],
      "metadata": {
        "colab": {
          "base_uri": "https://localhost:8080/"
        },
        "id": "ikDXGY4QiPkz",
        "outputId": "3c4c8528-ef2a-433a-8a58-ee9ef688cc05"
      },
      "execution_count": null,
      "outputs": [
        {
          "output_type": "stream",
          "name": "stdout",
          "text": [
            "Name Terrence\n",
            "Age 19\n"
          ]
        }
      ]
    },
    {
      "cell_type": "code",
      "source": [
        "Disease = {\"Cholera\", \"Typhoid\", \"Malaria\", \"Dengue\"}\n",
        "for index , disease in enumerate(Disease):\n",
        "  print(index, disease)"
      ],
      "metadata": {
        "id": "u7taESSFiu_2",
        "colab": {
          "base_uri": "https://localhost:8080/"
        },
        "outputId": "663f27ef-7371-474e-a8eb-e86e884c1838"
      },
      "execution_count": null,
      "outputs": [
        {
          "output_type": "stream",
          "name": "stdout",
          "text": [
            "0 Malaria\n",
            "1 Dengue\n",
            "2 Typhoid\n",
            "3 Cholera\n"
          ]
        }
      ]
    },
    {
      "cell_type": "markdown",
      "source": [
        "# While Loop"
      ],
      "metadata": {
        "id": "vmX-qfg9Zn0B"
      }
    },
    {
      "cell_type": "code",
      "source": [
        "i = 0\n",
        "while(i <= 5):\n",
        "  print(i)\n",
        "  i += 1"
      ],
      "metadata": {
        "colab": {
          "base_uri": "https://localhost:8080/"
        },
        "id": "qxIUln9lacPm",
        "outputId": "46bb4254-a76c-4ce8-d4ce-47dabcdd70b5"
      },
      "execution_count": null,
      "outputs": [
        {
          "output_type": "stream",
          "name": "stdout",
          "text": [
            "0\n",
            "1\n",
            "2\n",
            "3\n",
            "4\n",
            "5\n"
          ]
        }
      ]
    },
    {
      "cell_type": "markdown",
      "source": [
        "# Common loop control statements."
      ],
      "metadata": {
        "id": "hkL-3uRRa8Zq"
      }
    },
    {
      "cell_type": "code",
      "source": [
        "for i in range(10):\n",
        "  if(i ==5):\n",
        "    break\n",
        "  print(i)\n",
        "\n",
        "print(\"Next\")\n",
        "\n",
        "for i in range(8):\n",
        "  if(i == 4):\n",
        "    continue\n",
        "\n",
        "  print(i)"
      ],
      "metadata": {
        "colab": {
          "base_uri": "https://localhost:8080/"
        },
        "id": "xY-eqQokbBiA",
        "outputId": "448dedf9-8669-431f-b0c6-2d407e056bf8"
      },
      "execution_count": null,
      "outputs": [
        {
          "output_type": "stream",
          "name": "stdout",
          "text": [
            "0\n",
            "1\n",
            "2\n",
            "3\n",
            "4\n",
            "Next\n",
            "0\n",
            "1\n",
            "2\n",
            "3\n",
            "5\n",
            "6\n",
            "7\n"
          ]
        }
      ]
    },
    {
      "cell_type": "markdown",
      "source": [
        "# Nested Loop conrol statements."
      ],
      "metadata": {
        "id": "KZxXv274b9Pb"
      }
    },
    {
      "cell_type": "code",
      "source": [
        "for i in range(5):\n",
        "  for j in range(4):\n",
        "    print(f\"i = {i}, j = {j}\")"
      ],
      "metadata": {
        "colab": {
          "base_uri": "https://localhost:8080/"
        },
        "id": "cbQ-68SFcAIW",
        "outputId": "ce507b86-f6c7-4266-b61f-616da313cfdf"
      },
      "execution_count": null,
      "outputs": [
        {
          "output_type": "stream",
          "name": "stdout",
          "text": [
            "i = 0, j = 0\n",
            "i = 0, j = 1\n",
            "i = 0, j = 2\n",
            "i = 0, j = 3\n",
            "i = 1, j = 0\n",
            "i = 1, j = 1\n",
            "i = 1, j = 2\n",
            "i = 1, j = 3\n",
            "i = 2, j = 0\n",
            "i = 2, j = 1\n",
            "i = 2, j = 2\n",
            "i = 2, j = 3\n",
            "i = 3, j = 0\n",
            "i = 3, j = 1\n",
            "i = 3, j = 2\n",
            "i = 3, j = 3\n",
            "i = 4, j = 0\n",
            "i = 4, j = 1\n",
            "i = 4, j = 2\n",
            "i = 4, j = 3\n"
          ]
        }
      ]
    },
    {
      "cell_type": "markdown",
      "source": [
        "# Else with Loops"
      ],
      "metadata": {
        "id": "0kSrBrwshHqP"
      }
    },
    {
      "cell_type": "code",
      "source": [
        "for i in range(15):\n",
        "  print(i)\n",
        "\n",
        "else:\n",
        "  print(\"Loop completed wthout break.\")"
      ],
      "metadata": {
        "colab": {
          "base_uri": "https://localhost:8080/"
        },
        "id": "tEkyojfzhPFm",
        "outputId": "a695beb8-0659-438d-fdfd-5f1f400711ae"
      },
      "execution_count": null,
      "outputs": [
        {
          "output_type": "stream",
          "name": "stdout",
          "text": [
            "0\n",
            "1\n",
            "2\n",
            "3\n",
            "4\n",
            "5\n",
            "6\n",
            "7\n",
            "8\n",
            "9\n",
            "10\n",
            "11\n",
            "12\n",
            "13\n",
            "14\n",
            "Loop completed wthout break.\n"
          ]
        }
      ]
    },
    {
      "cell_type": "code",
      "source": [
        "for x in range(8):\n",
        "  if(x == 3):\n",
        "    print(x)\n",
        "\n",
        "  else:\n",
        "    print(\"This will not print.\")"
      ],
      "metadata": {
        "colab": {
          "base_uri": "https://localhost:8080/"
        },
        "id": "Kz9tQoeDhbDy",
        "outputId": "87b94066-2355-41b2-8e57-d619b7b12ecf"
      },
      "execution_count": null,
      "outputs": [
        {
          "output_type": "stream",
          "name": "stdout",
          "text": [
            "This will not print.\n",
            "This will not print.\n",
            "This will not print.\n",
            "3\n",
            "This will not print.\n",
            "This will not print.\n",
            "This will not print.\n",
            "This will not print.\n"
          ]
        }
      ]
    },
    {
      "cell_type": "code",
      "source": [],
      "metadata": {
        "id": "nXs5lLE-htBo"
      },
      "execution_count": null,
      "outputs": []
    },
    {
      "cell_type": "markdown",
      "source": [
        "# Functions"
      ],
      "metadata": {
        "id": "LHVFKEW5TkbO"
      }
    },
    {
      "cell_type": "code",
      "source": [
        "def add(a, b):\n",
        "  return a + b\n",
        "\n",
        "sum = add(1,2)\n",
        "print(sum)\n"
      ],
      "metadata": {
        "colab": {
          "base_uri": "https://localhost:8080/"
        },
        "id": "XKVbj3qhTmOW",
        "outputId": "2b55dd95-9513-4574-9bbc-1cfabef238b0"
      },
      "execution_count": null,
      "outputs": [
        {
          "output_type": "stream",
          "name": "stdout",
          "text": [
            "3\n"
          ]
        }
      ]
    },
    {
      "cell_type": "code",
      "source": [
        "def calculator(a, b):\n",
        "  if(operation == \"+\"):\n",
        "    return a + B\n",
        "\n",
        "  elif(operation == \"-\"):\n",
        "    return a - b\n",
        "\n",
        "  elif(operation == \"*\"):\n",
        "    return a * b\n",
        "\n",
        "  elif(operation == \"/\"):\n",
        "    return a/B\n",
        "\n",
        "  elif(operation == \"//\"):\n",
        "    return a // b\n",
        "\n",
        "  elif(operation == \"%\"):\n",
        "    return a % b\n",
        "\n",
        "  else:\n",
        "    print(\"Please enter the valid operational character to be performed.\")\n",
        "operation  = str(input(\"Enter the operation:- \"))\n",
        "a = int(input(\"Enter the value of a:- \"))\n",
        "b = int(input(\"Enter the value of b:- \"))\n",
        "calculator(a,b)\n"
      ],
      "metadata": {
        "colab": {
          "base_uri": "https://localhost:8080/"
        },
        "id": "OS9menODT1H2",
        "outputId": "0d0fdb2a-c5a3-4965-b62d-0f101cf1f343"
      },
      "execution_count": null,
      "outputs": [
        {
          "name": "stdout",
          "output_type": "stream",
          "text": [
            "Enter the operation:- *\n",
            "Enter the value of a:- 5\n",
            "Enter the value of b:- 20\n"
          ]
        },
        {
          "output_type": "execute_result",
          "data": {
            "text/plain": [
              "100"
            ]
          },
          "metadata": {},
          "execution_count": 5
        }
      ]
    },
    {
      "cell_type": "code",
      "source": [
        "import random\n",
        "\n",
        "def numberguessing():\n",
        "  number = random.randint(1, 10)\n",
        "  guess = int(input(\"Enter the guess:- \"))\n",
        "\n",
        "  if(guess < 1 and guess > 10):\n",
        "    print(\"Out of range\")\n",
        "\n",
        "  elif(guess == number):\n",
        "    print(\"You predicted the right value.\")\n",
        "\n",
        "  else:\n",
        "    print(\"Invalid input.\")\n",
        "\n",
        "numberguessing()"
      ],
      "metadata": {
        "colab": {
          "base_uri": "https://localhost:8080/"
        },
        "id": "EiYOMT-VgVcV",
        "outputId": "0a80e219-517d-4c4f-dca3-1369621390dd"
      },
      "execution_count": null,
      "outputs": [
        {
          "output_type": "stream",
          "name": "stdout",
          "text": [
            "Enter the guess:- 1\n",
            "Invalid input.\n"
          ]
        }
      ]
    },
    {
      "cell_type": "markdown",
      "source": [
        "# Number guessing using loops."
      ],
      "metadata": {
        "id": "zYrJBUAssy_S"
      }
    },
    {
      "cell_type": "code",
      "source": [
        "import random\n",
        "\n",
        "def number_guessing():\n",
        "    number = random.randint(1, 10)\n",
        "\n",
        "    print(\"Guess a number between 1 and 10.\")\n",
        "\n",
        "    for attempts in range(1, 100):  # You can adjust max attempts if needed\n",
        "        guess = int(input(f\"Attempt {attempts}: \"))\n",
        "\n",
        "        if (guess < 1 or guess > 10):\n",
        "            print(\"Out of range. Try a number between 1 and 10.\")\n",
        "        elif (guess == number):\n",
        "            print(f\"Correct! You guessed the number in {attempts} attempt(s).\")\n",
        "            break\n",
        "        else:\n",
        "            print(\"Wrong guess. Try again.\")\n",
        "\n",
        "number_guessing()\n"
      ],
      "metadata": {
        "colab": {
          "base_uri": "https://localhost:8080/"
        },
        "id": "hDX-dT6_pvBd",
        "outputId": "a41c8267-ab8d-4d92-de01-4c5850a4e0fe"
      },
      "execution_count": null,
      "outputs": [
        {
          "output_type": "stream",
          "name": "stdout",
          "text": [
            "Guess a number between 1 and 10.\n",
            "Attempt 1: 1\n",
            "Wrong guess. Try again.\n",
            "Attempt 2: 2\n",
            "Wrong guess. Try again.\n",
            "Attempt 3: 3\n",
            "Wrong guess. Try again.\n",
            "Attempt 4: 4\n",
            "Wrong guess. Try again.\n",
            "Attempt 5: 5\n",
            "Wrong guess. Try again.\n",
            "Attempt 6: 6\n",
            "Correct! You guessed the number in 6 attempt(s).\n"
          ]
        }
      ]
    },
    {
      "cell_type": "markdown",
      "source": [
        "# Dictionary in python."
      ],
      "metadata": {
        "id": "WXuPs7I0qhJT"
      }
    },
    {
      "cell_type": "code",
      "source": [
        "# Creating a dictionary.\n",
        "student = {\n",
        "    \"Name\": \"Alice\",\n",
        "    \"Age\": 21,\n",
        "    \"Grade\": \"A+\",\n",
        "    \"Faculty\": \"B.Tech\"\n",
        "}\n",
        "print(student[\"Name\"])\n",
        "print(student[\"Age\"])\n",
        "print(student[\"Grade\"])\n",
        "print(student[\"Faculty\"])\n",
        "\n",
        "\n",
        "print(student.get(\"Name\"))\n",
        "print(student.get(\"Age\"))\n",
        "print(student.get(\"Grade\"))\n",
        "print(student.get(\"Faculty\"))\n",
        "\n",
        "\n",
        "print(student.get(\"School_Name\"))\n",
        "\n",
        "\"\"\" The methods for accessing the elements student[] will raise error if the keys are missing in the dictionary and\n",
        "the method student.get() will not raise error but returns none.\"\"\""
      ],
      "metadata": {
        "colab": {
          "base_uri": "https://localhost:8080/"
        },
        "id": "Ew8FpU6aqkVU",
        "outputId": "80366787-bef0-4f4b-af21-12a570b3bb8a"
      },
      "execution_count": null,
      "outputs": [
        {
          "output_type": "stream",
          "name": "stdout",
          "text": [
            "Alice\n",
            "21\n",
            "A+\n",
            "B.Tech\n",
            "Alice\n",
            "21\n",
            "A+\n",
            "B.Tech\n",
            "None\n"
          ]
        }
      ]
    },
    {
      "cell_type": "code",
      "source": [
        "Diseases = {\n",
        "    \"name\": \"Tuberculosis\",\n",
        "    \"cause\": \"Mycobacterium tuberculosis\",\n",
        "    \"TransferFactor\": \"Droplets\"\n",
        "}\n",
        "\n",
        "# Adding up the key.\n",
        "Diseases[\"Test1\"]=\"Mantoux Test\"\n",
        "print(Diseases)\n",
        "Diseases[\"Test2\"]= \"IGRA/TST\"\n",
        "print(Diseases)\n"
      ],
      "metadata": {
        "colab": {
          "base_uri": "https://localhost:8080/"
        },
        "id": "bjj4H47hs4Dz",
        "outputId": "b9489b62-5c67-481e-8952-bbdab1f86321"
      },
      "execution_count": null,
      "outputs": [
        {
          "output_type": "stream",
          "name": "stdout",
          "text": [
            "{'name': 'Tuberculosis', 'cause': 'Mycobacterium tuberculosis', 'TransferFactor': 'Droplets', 'Test1': 'Mantoux Test'}\n",
            "{'name': 'Tuberculosis', 'cause': 'Mycobacterium tuberculosis', 'TransferFactor': 'Droplets', 'Test1': 'Mantoux Test', 'Test2': 'IGRA/TST'}\n"
          ]
        }
      ]
    },
    {
      "cell_type": "code",
      "source": [
        "disease = {\n",
        "    \"Name\": \"Typhoid\",\n",
        "    \"Cause\": \"Salmonella typhi\",\n",
        "    \"TransferFactor\": \"contaminated water\"\n",
        "\n",
        "}\n",
        "\n",
        "del disease[\"TransferFactor\"]\n",
        "print(disease)"
      ],
      "metadata": {
        "colab": {
          "base_uri": "https://localhost:8080/"
        },
        "id": "xJ1f8jHvDvZe",
        "outputId": "5845d986-9d02-4abc-ed42-9580c9309e68"
      },
      "execution_count": null,
      "outputs": [
        {
          "output_type": "stream",
          "name": "stdout",
          "text": [
            "{'Name': 'Typhoid', 'Cause': 'Salmonella typhi'}\n"
          ]
        }
      ]
    },
    {
      "cell_type": "code",
      "source": [
        "Pooped = disease.popitem()\n",
        "print(Pooped)"
      ],
      "metadata": {
        "colab": {
          "base_uri": "https://localhost:8080/"
        },
        "id": "iX5ofAjNFTC-",
        "outputId": "b03dc246-549c-4a86-f1f0-398c6f18af48"
      },
      "execution_count": null,
      "outputs": [
        {
          "output_type": "stream",
          "name": "stdout",
          "text": [
            "('Cause', 'Salmonella typhi')\n"
          ]
        }
      ]
    },
    {
      "cell_type": "markdown",
      "source": [
        "# List Comprehensions in python."
      ],
      "metadata": {
        "id": "Hc52s6vWOjao"
      }
    },
    {
      "cell_type": "code",
      "source": [
        "Squares = [x ** 2 for x in range(10)]\n",
        "print(Squares)\n",
        "\n",
        "oddSquares = [a ** 2 for a in range(10) if a % 2 == 1]\n",
        "print(oddSquares)\n",
        "\n",
        "evenSquares = [b ** 2 for b in range(10) if b % 2 == 0]\n",
        "print(evenSquares)"
      ],
      "metadata": {
        "colab": {
          "base_uri": "https://localhost:8080/"
        },
        "id": "kYRWgaw-OmS4",
        "outputId": "1bee2987-fb31-45e8-cc86-546cdeb25bd6"
      },
      "execution_count": null,
      "outputs": [
        {
          "output_type": "stream",
          "name": "stdout",
          "text": [
            "[0, 1, 4, 9, 16, 25, 36, 49, 64, 81]\n",
            "[1, 9, 25, 49, 81]\n",
            "[0, 4, 16, 36, 64]\n"
          ]
        }
      ]
    },
    {
      "cell_type": "markdown",
      "source": [
        "# Using functions in list comprehension."
      ],
      "metadata": {
        "id": "vbAlRt2HQbae"
      }
    },
    {
      "cell_type": "code",
      "source": [
        "def Cube(x):\n",
        "  return x ** 3\n",
        "\n",
        "Cubes = [Cube(x) for x in range(10) if x % 2 == 1]\n",
        "print(Cubes)"
      ],
      "metadata": {
        "colab": {
          "base_uri": "https://localhost:8080/"
        },
        "id": "Bbvl3cmiQfzk",
        "outputId": "3d6c0dae-5646-49f5-edcc-0ff3f8bf74b2"
      },
      "execution_count": null,
      "outputs": [
        {
          "output_type": "stream",
          "name": "stdout",
          "text": [
            "[1, 27, 125, 343, 729]\n"
          ]
        }
      ]
    },
    {
      "cell_type": "code",
      "source": [],
      "metadata": {
        "id": "j-ugQa-eQet9"
      },
      "execution_count": null,
      "outputs": []
    },
    {
      "cell_type": "markdown",
      "source": [
        "# OOP(Object Oriented Programming)"
      ],
      "metadata": {
        "id": "qiPnFj45IMCK"
      }
    },
    {
      "cell_type": "code",
      "source": [
        "class Car():\n",
        "  def Toyota(self):\n",
        "    print(\"Model:- Land-crushier\")\n",
        "\n",
        "\n",
        "C1 = Car()\n",
        "C1.Toyota()"
      ],
      "metadata": {
        "id": "2SJXhY_gIRaE",
        "colab": {
          "base_uri": "https://localhost:8080/"
        },
        "outputId": "81ec3210-21d6-47cc-e7dc-22a0e1a6fa10"
      },
      "execution_count": null,
      "outputs": [
        {
          "output_type": "stream",
          "name": "stdout",
          "text": [
            "Model:- Land-crushier\n"
          ]
        }
      ]
    },
    {
      "cell_type": "code",
      "source": [
        "class Student():\n",
        "  def name(self, name):\n",
        "    self.name = name\n",
        "    print(f\"Hey there my name is:- {self.name}\")\n",
        "\n",
        "\n",
        "\n",
        "  def set_age(self, age):\n",
        "    self.age = age\n",
        "    print(f\"Hey there i am {self.age} yrs old.\")\n",
        "\n",
        "S1 = Student()\n",
        "S1.name(\"Alice\")\n",
        "S1.set_age(11)\n",
        "\n"
      ],
      "metadata": {
        "colab": {
          "base_uri": "https://localhost:8080/"
        },
        "id": "WKs1JKkzj1gb",
        "outputId": "14e4dc0e-9bc3-4967-ff3e-da5b4ac14040"
      },
      "execution_count": null,
      "outputs": [
        {
          "output_type": "stream",
          "name": "stdout",
          "text": [
            "Hey there my name is:- Alice\n",
            "Hey there i am 11 yrs old.\n"
          ]
        }
      ]
    },
    {
      "cell_type": "markdown",
      "source": [
        "# Dunder method/ Constructors.\n"
      ],
      "metadata": {
        "id": "EY7KSiQKCPLL"
      }
    },
    {
      "cell_type": "code",
      "source": [],
      "metadata": {
        "id": "BKGIoNupCTUf"
      },
      "execution_count": null,
      "outputs": []
    },
    {
      "cell_type": "code",
      "source": [],
      "metadata": {
        "id": "4DKKjiJm9NCU"
      },
      "execution_count": null,
      "outputs": []
    }
  ]
}