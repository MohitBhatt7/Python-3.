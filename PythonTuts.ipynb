{
  "nbformat": 4,
  "nbformat_minor": 0,
  "metadata": {
    "colab": {
      "provenance": [],
      "toc_visible": true,
      "authorship_tag": "ABX9TyOdOd8OFUcu98pAe9temZFu",
      "include_colab_link": true
    },
    "kernelspec": {
      "name": "python3",
      "display_name": "Python 3"
    },
    "language_info": {
      "name": "python"
    }
  },
  "cells": [
    {
      "cell_type": "markdown",
      "metadata": {
        "id": "view-in-github",
        "colab_type": "text"
      },
      "source": [
        "<a href=\"https://colab.research.google.com/github/MohitBhatt7/Python-3./blob/main/PythonTuts.ipynb\" target=\"_parent\"><img src=\"https://colab.research.google.com/assets/colab-badge.svg\" alt=\"Open In Colab\"/></a>"
      ]
    },
    {
      "cell_type": "code",
      "source": [
        "Name = \"Mohit bhatt\"\n",
        "print(Name)"
      ],
      "metadata": {
        "colab": {
          "base_uri": "https://localhost:8080/"
        },
        "id": "QDvzzqoPf_d9",
        "outputId": "b9dcab6e-5ed1-4f0f-fcf9-2035e338bc83"
      },
      "execution_count": 13,
      "outputs": [
        {
          "output_type": "stream",
          "name": "stdout",
          "text": [
            "Mohit bhatt\n"
          ]
        }
      ]
    },
    {
      "cell_type": "code",
      "source": [
        "Age = 22\n",
        "isStudent = True\n",
        "print(f\"Hey there, My name is {Name} and i am {Age} years old, also I am a B.tech student which is {isStudent}.\")"
      ],
      "metadata": {
        "colab": {
          "base_uri": "https://localhost:8080/"
        },
        "id": "13A9JXARgB-A",
        "outputId": "760ded82-a6b7-4728-f9cd-68a0ec2b8faf"
      },
      "execution_count": 15,
      "outputs": [
        {
          "output_type": "stream",
          "name": "stdout",
          "text": [
            "Hey there, My name is Mohit bhatt and i am 22 years old, also I am a B.tech student which is True.\n"
          ]
        }
      ]
    },
    {
      "cell_type": "code",
      "source": [],
      "metadata": {
        "id": "Ye2Cq7sXo76K"
      },
      "execution_count": null,
      "outputs": []
    }
  ]
}