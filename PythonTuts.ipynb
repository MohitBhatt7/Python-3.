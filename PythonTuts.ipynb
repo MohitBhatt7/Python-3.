{
  "nbformat": 4,
  "nbformat_minor": 0,
  "metadata": {
    "colab": {
      "provenance": [],
      "toc_visible": true,
      "authorship_tag": "ABX9TyM3mO57hFetzabHJgKKI3f+",
      "include_colab_link": true
    },
    "kernelspec": {
      "name": "python3",
      "display_name": "Python 3"
    },
    "language_info": {
      "name": "python"
    }
  },
  "cells": [
    {
      "cell_type": "markdown",
      "metadata": {
        "id": "view-in-github",
        "colab_type": "text"
      },
      "source": [
        "<a href=\"https://colab.research.google.com/github/MohitBhatt7/Python-3./blob/main/PythonTuts.ipynb\" target=\"_parent\"><img src=\"https://colab.research.google.com/assets/colab-badge.svg\" alt=\"Open In Colab\"/></a>"
      ]
    },
    {
      "cell_type": "code",
      "source": [
        "Name = \"Mohit bhatt\"\n",
        "print(Name)"
      ],
      "metadata": {
        "colab": {
          "base_uri": "https://localhost:8080/"
        },
        "id": "QDvzzqoPf_d9",
        "outputId": "b9dcab6e-5ed1-4f0f-fcf9-2035e338bc83"
      },
      "execution_count": null,
      "outputs": [
        {
          "output_type": "stream",
          "name": "stdout",
          "text": [
            "Mohit bhatt\n"
          ]
        }
      ]
    },
    {
      "cell_type": "code",
      "source": [
        "Age = 22\n",
        "isStudent = True\n",
        "print(f\"Hey there, My name is {Name} and i am {Age} years old, also I am a B.tech student which is {isStudent}.\")"
      ],
      "metadata": {
        "colab": {
          "base_uri": "https://localhost:8080/"
        },
        "id": "13A9JXARgB-A",
        "outputId": "760ded82-a6b7-4728-f9cd-68a0ec2b8faf"
      },
      "execution_count": null,
      "outputs": [
        {
          "output_type": "stream",
          "name": "stdout",
          "text": [
            "Hey there, My name is Mohit bhatt and i am 22 years old, also I am a B.tech student which is True.\n"
          ]
        }
      ]
    },
    {
      "cell_type": "code",
      "source": [
        "Price = 12\n",
        "print(Price)"
      ],
      "metadata": {
        "colab": {
          "base_uri": "https://localhost:8080/"
        },
        "id": "Ye2Cq7sXo76K",
        "outputId": "8241bd3a-17a3-4cb9-b68a-0a1d380a9555"
      },
      "execution_count": null,
      "outputs": [
        {
          "output_type": "stream",
          "name": "stdout",
          "text": [
            "12\n"
          ]
        }
      ]
    },
    {
      "cell_type": "markdown",
      "source": [
        "# Numeric Data Types"
      ],
      "metadata": {
        "id": "87Ymi2rbqZzQ"
      }
    },
    {
      "cell_type": "code",
      "source": [
        "Price = 100\n",
        "print(Price)\n",
        "print(type(Price)) # To check data type."
      ],
      "metadata": {
        "colab": {
          "base_uri": "https://localhost:8080/"
        },
        "id": "AjXy3f1uqjOT",
        "outputId": "920fd486-120a-4afd-bf02-ec04664f1f22"
      },
      "execution_count": 1,
      "outputs": [
        {
          "output_type": "stream",
          "name": "stdout",
          "text": [
            "100\n",
            "<class 'int'>\n"
          ]
        }
      ]
    },
    {
      "cell_type": "code",
      "source": [
        "price = 123.12\n",
        "print(price)\n",
        "print(type(price)) # To check data type."
      ],
      "metadata": {
        "colab": {
          "base_uri": "https://localhost:8080/"
        },
        "id": "U36SuPJKqwol",
        "outputId": "b974e102-7e4f-45df-f895-2f11b9c9916b"
      },
      "execution_count": 4,
      "outputs": [
        {
          "output_type": "stream",
          "name": "stdout",
          "text": [
            "123.12\n",
            "<class 'float'>\n"
          ]
        }
      ]
    },
    {
      "cell_type": "code",
      "source": [
        "Complex = 2 + 4j\n",
        "print(Complex)\n",
        "print(type(Complex)) # To check datatype.\n",
        "print(Complex.real) # To print real part of complex number.\n",
        "print(Complex.imag)# To print imaginary part of complex number."
      ],
      "metadata": {
        "colab": {
          "base_uri": "https://localhost:8080/"
        },
        "id": "QgV_TfWurJBW",
        "outputId": "a34c3069-2132-4cf6-b9d5-560fa9cd81f1"
      },
      "execution_count": 8,
      "outputs": [
        {
          "output_type": "stream",
          "name": "stdout",
          "text": [
            "(2+4j)\n",
            "<class 'complex'>\n",
            "2.0\n",
            "4.0\n"
          ]
        }
      ]
    },
    {
      "cell_type": "code",
      "source": [
        "isvalid = True # Boolean.\n",
        "print(5 > 3)"
      ],
      "metadata": {
        "colab": {
          "base_uri": "https://localhost:8080/"
        },
        "id": "AptmuRqOrRJB",
        "outputId": "7c861d7b-67ac-43af-c58b-517028b4e03b"
      },
      "execution_count": 9,
      "outputs": [
        {
          "output_type": "stream",
          "name": "stdout",
          "text": [
            "True\n"
          ]
        }
      ]
    },
    {
      "cell_type": "code",
      "source": [],
      "metadata": {
        "id": "HUeLP6svsdWE"
      },
      "execution_count": null,
      "outputs": []
    }
  ]
}