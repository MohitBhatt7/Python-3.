{
  "nbformat": 4,
  "nbformat_minor": 0,
  "metadata": {
    "colab": {
      "provenance": [],
      "authorship_tag": "ABX9TyPW4t87bdu3iSH3bgYMv6qe",
      "include_colab_link": true
    },
    "kernelspec": {
      "name": "python3",
      "display_name": "Python 3"
    },
    "language_info": {
      "name": "python"
    }
  },
  "cells": [
    {
      "cell_type": "markdown",
      "metadata": {
        "id": "view-in-github",
        "colab_type": "text"
      },
      "source": [
        "<a href=\"https://colab.research.google.com/github/MohitBhatt7/Python-3./blob/main/Advanced.ipynb\" target=\"_parent\"><img src=\"https://colab.research.google.com/assets/colab-badge.svg\" alt=\"Open In Colab\"/></a>"
      ]
    },
    {
      "cell_type": "markdown",
      "source": [
        "# Magic Methods.\n"
      ],
      "metadata": {
        "id": "bLwkA8AR6BZM"
      }
    },
    {
      "cell_type": "code",
      "source": [],
      "metadata": {
        "id": "-dV_WYuy6FpS"
      },
      "execution_count": null,
      "outputs": []
    }
  ]
}