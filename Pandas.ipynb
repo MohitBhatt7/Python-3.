{
  "nbformat": 4,
  "nbformat_minor": 0,
  "metadata": {
    "colab": {
      "provenance": [],
      "gpuType": "T4",
      "authorship_tag": "ABX9TyOyBeYb0r/dDv/E37P/lt59",
      "include_colab_link": true
    },
    "kernelspec": {
      "name": "python3",
      "display_name": "Python 3"
    },
    "language_info": {
      "name": "python"
    },
    "accelerator": "GPU"
  },
  "cells": [
    {
      "cell_type": "markdown",
      "metadata": {
        "id": "view-in-github",
        "colab_type": "text"
      },
      "source": [
        "<a href=\"https://colab.research.google.com/github/MohitBhatt7/Python-3./blob/main/Pandas.ipynb\" target=\"_parent\"><img src=\"https://colab.research.google.com/assets/colab-badge.svg\" alt=\"Open In Colab\"/></a>"
      ]
    },
    {
      "cell_type": "markdown",
      "source": [
        "# Core Data Structure."
      ],
      "metadata": {
        "id": "eEKdVqtka5OL"
      }
    },
    {
      "cell_type": "code",
      "source": [
        "import pandas as pd\n",
        "df = pd.Series([\"Name\", \"Alice\", \"Mark\", \"Terrence\", \"Sabin\"], index=[\"S.N\", 1, 2, 3, 4])\n",
        "print(df)\n"
      ],
      "metadata": {
        "colab": {
          "base_uri": "https://localhost:8080/"
        },
        "id": "toyOrlf2a8vp",
        "outputId": "d5596b40-e0b0-48c5-9cbd-f1e2d4fcce5c"
      },
      "execution_count": null,
      "outputs": [
        {
          "output_type": "stream",
          "name": "stdout",
          "text": [
            "S.N        Name\n",
            "1         Alice\n",
            "2          Mark\n",
            "3      Terrence\n",
            "4         Sabin\n",
            "dtype: object\n"
          ]
        }
      ]
    },
    {
      "cell_type": "code",
      "source": [
        "Data = {\n",
        "    \"Name\": [\"Mark\", \"Terrence\", \"Alice\"],\n",
        "    \"Age\": [10, 12, 13]\n",
        "\n",
        "}\n",
        "\n",
        "DF = pd.DataFrame(Data)\n",
        "print(DF)"
      ],
      "metadata": {
        "colab": {
          "base_uri": "https://localhost:8080/"
        },
        "id": "QdWPA1W3bg77",
        "outputId": "84f972d4-c622-405b-9453-efc289bc57dc"
      },
      "execution_count": null,
      "outputs": [
        {
          "output_type": "stream",
          "name": "stdout",
          "text": [
            "       Name  Age\n",
            "0      Mark   10\n",
            "1  Terrence   12\n",
            "2     Alice   13\n"
          ]
        }
      ]
    },
    {
      "cell_type": "code",
      "source": [
        "import pandas as pd\n",
        "DF = pd.read_csv(\"/content/abc.csv\")\n",
        "print(DF)"
      ],
      "metadata": {
        "colab": {
          "base_uri": "https://localhost:8080/"
        },
        "id": "uSqhz7gtgIIV",
        "outputId": "4242346b-3a68-410f-a0d8-3adaf291749f"
      },
      "execution_count": null,
      "outputs": [
        {
          "output_type": "stream",
          "name": "stdout",
          "text": [
            "  student  language  science  maths  history\n",
            "0   kumar        90       56     34       34\n",
            "1   kevin        10       34     32       67\n",
            "2   sammy        90       23     12       32\n",
            "3  janice        20       67     90       45\n",
            "4   peter        30       56     45       65\n",
            "5    prem        90       45     45       34\n",
            "6  carrol        50       90     45       23\n"
          ]
        }
      ]
    },
    {
      "cell_type": "markdown",
      "source": [
        "# COVID-19 DATASET.\n"
      ],
      "metadata": {
        "id": "QwwVkbUXCY06"
      }
    },
    {
      "cell_type": "code",
      "source": [
        "import pandas as pd\n",
        "Dataframe = pd.read_csv(\"/content/country_wise_latest.csv\")\n",
        "print(Dataframe)"
      ],
      "metadata": {
        "colab": {
          "base_uri": "https://localhost:8080/"
        },
        "id": "iI8L7_LiCesH",
        "outputId": "9a8e5d63-8ba2-47a2-ffc7-ee71617e7852"
      },
      "execution_count": null,
      "outputs": [
        {
          "output_type": "stream",
          "name": "stdout",
          "text": [
            "         Country/Region  Confirmed  Deaths  Recovered  Active  New cases  \\\n",
            "0           Afghanistan      36263    1269      25198    9796        106   \n",
            "1               Albania       4880     144       2745    1991        117   \n",
            "2               Algeria      27973    1163      18837    7973        616   \n",
            "3               Andorra        907      52        803      52         10   \n",
            "4                Angola        950      41        242     667         18   \n",
            "..                  ...        ...     ...        ...     ...        ...   \n",
            "182  West Bank and Gaza      10621      78       3752    6791        152   \n",
            "183      Western Sahara         10       1          8       1          0   \n",
            "184               Yemen       1691     483        833     375         10   \n",
            "185              Zambia       4552     140       2815    1597         71   \n",
            "186            Zimbabwe       2704      36        542    2126        192   \n",
            "\n",
            "     New deaths  New recovered  Deaths / 100 Cases  Recovered / 100 Cases  \\\n",
            "0            10             18                3.50                  69.49   \n",
            "1             6             63                2.95                  56.25   \n",
            "2             8            749                4.16                  67.34   \n",
            "3             0              0                5.73                  88.53   \n",
            "4             1              0                4.32                  25.47   \n",
            "..          ...            ...                 ...                    ...   \n",
            "182           2              0                0.73                  35.33   \n",
            "183           0              0               10.00                  80.00   \n",
            "184           4             36               28.56                  49.26   \n",
            "185           1            465                3.08                  61.84   \n",
            "186           2             24                1.33                  20.04   \n",
            "\n",
            "     Deaths / 100 Recovered  Confirmed last week  1 week change  \\\n",
            "0                      5.04                35526            737   \n",
            "1                      5.25                 4171            709   \n",
            "2                      6.17                23691           4282   \n",
            "3                      6.48                  884             23   \n",
            "4                     16.94                  749            201   \n",
            "..                      ...                  ...            ...   \n",
            "182                    2.08                 8916           1705   \n",
            "183                   12.50                   10              0   \n",
            "184                   57.98                 1619             72   \n",
            "185                    4.97                 3326           1226   \n",
            "186                    6.64                 1713            991   \n",
            "\n",
            "     1 week % increase             WHO Region  \n",
            "0                 2.07  Eastern Mediterranean  \n",
            "1                17.00                 Europe  \n",
            "2                18.07                 Africa  \n",
            "3                 2.60                 Europe  \n",
            "4                26.84                 Africa  \n",
            "..                 ...                    ...  \n",
            "182              19.12  Eastern Mediterranean  \n",
            "183               0.00                 Africa  \n",
            "184               4.45  Eastern Mediterranean  \n",
            "185              36.86                 Africa  \n",
            "186              57.85                 Africa  \n",
            "\n",
            "[187 rows x 15 columns]\n"
          ]
        }
      ]
    },
    {
      "cell_type": "code",
      "source": [
        "print(Dataframe.head())"
      ],
      "metadata": {
        "colab": {
          "base_uri": "https://localhost:8080/"
        },
        "id": "tP76moksCqN3",
        "outputId": "1209e5cf-2444-491c-8d90-eb960a6eb703"
      },
      "execution_count": null,
      "outputs": [
        {
          "output_type": "stream",
          "name": "stdout",
          "text": [
            "  Country/Region  Confirmed  Deaths  Recovered  Active  New cases  New deaths  \\\n",
            "0    Afghanistan      36263    1269      25198    9796        106          10   \n",
            "1        Albania       4880     144       2745    1991        117           6   \n",
            "2        Algeria      27973    1163      18837    7973        616           8   \n",
            "3        Andorra        907      52        803      52         10           0   \n",
            "4         Angola        950      41        242     667         18           1   \n",
            "\n",
            "   New recovered  Deaths / 100 Cases  Recovered / 100 Cases  \\\n",
            "0             18                3.50                  69.49   \n",
            "1             63                2.95                  56.25   \n",
            "2            749                4.16                  67.34   \n",
            "3              0                5.73                  88.53   \n",
            "4              0                4.32                  25.47   \n",
            "\n",
            "   Deaths / 100 Recovered  Confirmed last week  1 week change  \\\n",
            "0                    5.04                35526            737   \n",
            "1                    5.25                 4171            709   \n",
            "2                    6.17                23691           4282   \n",
            "3                    6.48                  884             23   \n",
            "4                   16.94                  749            201   \n",
            "\n",
            "   1 week % increase             WHO Region  \n",
            "0               2.07  Eastern Mediterranean  \n",
            "1              17.00                 Europe  \n",
            "2              18.07                 Africa  \n",
            "3               2.60                 Europe  \n",
            "4              26.84                 Africa  \n"
          ]
        }
      ]
    },
    {
      "cell_type": "code",
      "source": [
        "print(len(Dataframe.columns)) # Checks the number of columns in Dataframe."
      ],
      "metadata": {
        "colab": {
          "base_uri": "https://localhost:8080/"
        },
        "id": "1LGoxq0JEqrE",
        "outputId": "edb9f058-e85b-4b65-873c-fe9b364ded0a"
      },
      "execution_count": null,
      "outputs": [
        {
          "output_type": "stream",
          "name": "stdout",
          "text": [
            "15\n"
          ]
        }
      ]
    },
    {
      "cell_type": "code",
      "source": [
        "print(len(Dataframe)) # Checks the numbers of rows in dataframe."
      ],
      "metadata": {
        "colab": {
          "base_uri": "https://localhost:8080/"
        },
        "id": "sUMnOHooEspa",
        "outputId": "d8b07c3a-348a-470d-aa17-9826ece632aa"
      },
      "execution_count": null,
      "outputs": [
        {
          "output_type": "stream",
          "name": "stdout",
          "text": [
            "187\n"
          ]
        }
      ]
    },
    {
      "cell_type": "code",
      "source": [
        "print(Dataframe.ndim)"
      ],
      "metadata": {
        "colab": {
          "base_uri": "https://localhost:8080/"
        },
        "id": "gwk6YZ2YFjlH",
        "outputId": "5b17a21b-4b5d-478d-8a21-5ea50a40cb3f"
      },
      "execution_count": null,
      "outputs": [
        {
          "output_type": "stream",
          "name": "stdout",
          "text": [
            "2\n"
          ]
        }
      ]
    },
    {
      "cell_type": "code",
      "source": [
        "print(Dataframe.shape)"
      ],
      "metadata": {
        "colab": {
          "base_uri": "https://localhost:8080/"
        },
        "id": "T8rOt-PEGPIs",
        "outputId": "64ef1c3c-7f68-4d2b-c2d7-52cac54239f4"
      },
      "execution_count": null,
      "outputs": [
        {
          "output_type": "stream",
          "name": "stdout",
          "text": [
            "(187, 15)\n"
          ]
        }
      ]
    },
    {
      "cell_type": "code",
      "source": [
        "import pandas as pd\n",
        "\n",
        "dataFrame = pd.read_csv(\"/content/day_wise.csv\")\n",
        "print(dataFrame)"
      ],
      "metadata": {
        "colab": {
          "base_uri": "https://localhost:8080/"
        },
        "id": "yXhBCGAZICOm",
        "outputId": "8ab1d045-e56c-4ec6-8c8c-2b7395340444"
      },
      "execution_count": null,
      "outputs": [
        {
          "output_type": "stream",
          "name": "stdout",
          "text": [
            "           Date  Confirmed  Deaths  Recovered   Active  New cases  New deaths  \\\n",
            "0    2020-01-22        555      17         28      510          0           0   \n",
            "1    2020-01-23        654      18         30      606         99           1   \n",
            "2    2020-01-24        941      26         36      879        287           8   \n",
            "3    2020-01-25       1434      42         39     1353        493          16   \n",
            "4    2020-01-26       2118      56         52     2010        684          14   \n",
            "..          ...        ...     ...        ...      ...        ...         ...   \n",
            "183  2020-07-23   15510481  633506    8710969  6166006     282756        9966   \n",
            "184  2020-07-24   15791645  639650    8939705  6212290     281164        6144   \n",
            "185  2020-07-25   16047190  644517    9158743  6243930     255545        4867   \n",
            "186  2020-07-26   16251796  648621    9293464  6309711     204606        4104   \n",
            "187  2020-07-27   16480485  654036    9468087  6358362     228693        5415   \n",
            "\n",
            "     New recovered  Deaths / 100 Cases  Recovered / 100 Cases  \\\n",
            "0                0                3.06                   5.05   \n",
            "1                2                2.75                   4.59   \n",
            "2                6                2.76                   3.83   \n",
            "3                3                2.93                   2.72   \n",
            "4               13                2.64                   2.46   \n",
            "..             ...                 ...                    ...   \n",
            "183         169714                4.08                  56.16   \n",
            "184         228736                4.05                  56.61   \n",
            "185         219038                4.02                  57.07   \n",
            "186         134721                3.99                  57.18   \n",
            "187         174623                3.97                  57.45   \n",
            "\n",
            "     Deaths / 100 Recovered  No. of countries  \n",
            "0                     60.71                 6  \n",
            "1                     60.00                 8  \n",
            "2                     72.22                 9  \n",
            "3                    107.69                11  \n",
            "4                    107.69                13  \n",
            "..                      ...               ...  \n",
            "183                    7.27               187  \n",
            "184                    7.16               187  \n",
            "185                    7.04               187  \n",
            "186                    6.98               187  \n",
            "187                    6.91               187  \n",
            "\n",
            "[188 rows x 12 columns]\n"
          ]
        }
      ]
    },
    {
      "cell_type": "code",
      "source": [
        "print(dataFrame.info())"
      ],
      "metadata": {
        "colab": {
          "base_uri": "https://localhost:8080/"
        },
        "id": "6gf7MidWIeeh",
        "outputId": "98195518-7c3d-485f-8a7b-1f5b00581f1f"
      },
      "execution_count": null,
      "outputs": [
        {
          "output_type": "stream",
          "name": "stdout",
          "text": [
            "<class 'pandas.core.frame.DataFrame'>\n",
            "RangeIndex: 188 entries, 0 to 187\n",
            "Data columns (total 12 columns):\n",
            " #   Column                  Non-Null Count  Dtype  \n",
            "---  ------                  --------------  -----  \n",
            " 0   Date                    188 non-null    object \n",
            " 1   Confirmed               188 non-null    int64  \n",
            " 2   Deaths                  188 non-null    int64  \n",
            " 3   Recovered               188 non-null    int64  \n",
            " 4   Active                  188 non-null    int64  \n",
            " 5   New cases               188 non-null    int64  \n",
            " 6   New deaths              188 non-null    int64  \n",
            " 7   New recovered           188 non-null    int64  \n",
            " 8   Deaths / 100 Cases      188 non-null    float64\n",
            " 9   Recovered / 100 Cases   188 non-null    float64\n",
            " 10  Deaths / 100 Recovered  188 non-null    float64\n",
            " 11  No. of countries        188 non-null    int64  \n",
            "dtypes: float64(3), int64(8), object(1)\n",
            "memory usage: 17.8+ KB\n",
            "None\n"
          ]
        }
      ]
    },
    {
      "cell_type": "code",
      "source": [
        "print(dataFrame.describe()) # For statistical analysis."
      ],
      "metadata": {
        "colab": {
          "base_uri": "https://localhost:8080/"
        },
        "id": "KDJTJW2WIuPf",
        "outputId": "2354ec96-1eca-4792-ff11-1abb84125587"
      },
      "execution_count": null,
      "outputs": [
        {
          "output_type": "stream",
          "name": "stdout",
          "text": [
            "          Confirmed         Deaths     Recovered        Active      New cases  \\\n",
            "count  1.880000e+02     188.000000  1.880000e+02  1.880000e+02     188.000000   \n",
            "mean   4.406960e+06  230770.760638  2.066001e+06  2.110188e+06   87771.021277   \n",
            "std    4.757988e+06  217929.094183  2.627976e+06  1.969670e+06   75295.293255   \n",
            "min    5.550000e+02      17.000000  2.800000e+01  5.100000e+02       0.000000   \n",
            "25%    1.121910e+05    3935.000000  6.044125e+04  5.864175e+04    5568.500000   \n",
            "50%    2.848733e+06  204190.000000  7.847840e+05  1.859759e+06   81114.000000   \n",
            "75%    7.422046e+06  418634.500000  3.416396e+06  3.587015e+06  131502.500000   \n",
            "max    1.648048e+07  654036.000000  9.468087e+06  6.358362e+06  282756.000000   \n",
            "\n",
            "        New deaths  New recovered  Deaths / 100 Cases  Recovered / 100 Cases  \\\n",
            "count   188.000000     188.000000          188.000000             188.000000   \n",
            "mean   3478.824468   50362.015957            4.860638              34.343936   \n",
            "std    2537.735652   56090.892479            1.579541              16.206159   \n",
            "min       0.000000       0.000000            2.040000               1.710000   \n",
            "25%     250.750000    2488.250000            3.510000              22.785000   \n",
            "50%    4116.000000   30991.500000            4.850000              35.680000   \n",
            "75%    5346.000000   79706.250000            6.297500              48.945000   \n",
            "max    9966.000000  284394.000000            7.180000              57.450000   \n",
            "\n",
            "       Deaths / 100 Recovered  No. of countries  \n",
            "count              188.000000        188.000000  \n",
            "mean                22.104521        144.351064  \n",
            "std                 22.568307         65.175979  \n",
            "min                  6.260000          6.000000  \n",
            "25%                  9.650000        101.250000  \n",
            "50%                 15.380000        184.000000  \n",
            "75%                 25.342500        187.000000  \n",
            "max                134.430000        187.000000  \n"
          ]
        }
      ]
    },
    {
      "cell_type": "code",
      "source": [
        "import pandas as pd\n",
        "dF = pd.read_csv(\"/content/full_grouped.csv\")\n",
        "print(dF)"
      ],
      "metadata": {
        "id": "UL7nO5_WkAwF",
        "colab": {
          "base_uri": "https://localhost:8080/"
        },
        "outputId": "ccb2df25-46c3-488f-e1f3-a82943ede811"
      },
      "execution_count": 7,
      "outputs": [
        {
          "output_type": "stream",
          "name": "stdout",
          "text": [
            "             Date      Country/Region  Confirmed  Deaths  Recovered  Active  \\\n",
            "0      2020-01-22         Afghanistan          0       0          0       0   \n",
            "1      2020-01-22             Albania          0       0          0       0   \n",
            "2      2020-01-22             Algeria          0       0          0       0   \n",
            "3      2020-01-22             Andorra          0       0          0       0   \n",
            "4      2020-01-22              Angola          0       0          0       0   \n",
            "...           ...                 ...        ...     ...        ...     ...   \n",
            "35151  2020-07-27  West Bank and Gaza      10621      78       3752    6791   \n",
            "35152  2020-07-27      Western Sahara         10       1          8       1   \n",
            "35153  2020-07-27               Yemen       1691     483        833     375   \n",
            "35154  2020-07-27              Zambia       4552     140       2815    1597   \n",
            "35155  2020-07-27            Zimbabwe       2704      36        542    2126   \n",
            "\n",
            "       New cases  New deaths  New recovered             WHO Region  \n",
            "0              0           0              0  Eastern Mediterranean  \n",
            "1              0           0              0                 Europe  \n",
            "2              0           0              0                 Africa  \n",
            "3              0           0              0                 Europe  \n",
            "4              0           0              0                 Africa  \n",
            "...          ...         ...            ...                    ...  \n",
            "35151        152           2              0  Eastern Mediterranean  \n",
            "35152          0           0              0                 Africa  \n",
            "35153         10           4             36  Eastern Mediterranean  \n",
            "35154         71           1            465                 Africa  \n",
            "35155        192           2             24                 Africa  \n",
            "\n",
            "[35156 rows x 10 columns]\n"
          ]
        }
      ]
    },
    {
      "cell_type": "code",
      "source": [
        "print(dF.isnull())"
      ],
      "metadata": {
        "colab": {
          "base_uri": "https://localhost:8080/"
        },
        "id": "9ZVWc0oUko4u",
        "outputId": "cf434679-5d42-44fd-ac75-73d68636a35b"
      },
      "execution_count": 8,
      "outputs": [
        {
          "output_type": "stream",
          "name": "stdout",
          "text": [
            "        Date  Country/Region  Confirmed  Deaths  Recovered  Active  New cases  \\\n",
            "0      False           False      False   False      False   False      False   \n",
            "1      False           False      False   False      False   False      False   \n",
            "2      False           False      False   False      False   False      False   \n",
            "3      False           False      False   False      False   False      False   \n",
            "4      False           False      False   False      False   False      False   \n",
            "...      ...             ...        ...     ...        ...     ...        ...   \n",
            "35151  False           False      False   False      False   False      False   \n",
            "35152  False           False      False   False      False   False      False   \n",
            "35153  False           False      False   False      False   False      False   \n",
            "35154  False           False      False   False      False   False      False   \n",
            "35155  False           False      False   False      False   False      False   \n",
            "\n",
            "       New deaths  New recovered  WHO Region  \n",
            "0           False          False       False  \n",
            "1           False          False       False  \n",
            "2           False          False       False  \n",
            "3           False          False       False  \n",
            "4           False          False       False  \n",
            "...           ...            ...         ...  \n",
            "35151       False          False       False  \n",
            "35152       False          False       False  \n",
            "35153       False          False       False  \n",
            "35154       False          False       False  \n",
            "35155       False          False       False  \n",
            "\n",
            "[35156 rows x 10 columns]\n"
          ]
        }
      ]
    },
    {
      "cell_type": "code",
      "source": [
        "print(dF.isnull().sum())"
      ],
      "metadata": {
        "colab": {
          "base_uri": "https://localhost:8080/"
        },
        "id": "5pma0-42ku0I",
        "outputId": "dceb6dd0-ba07-442a-ea1d-e479bc2429dc"
      },
      "execution_count": 9,
      "outputs": [
        {
          "output_type": "stream",
          "name": "stdout",
          "text": [
            "Date              0\n",
            "Country/Region    0\n",
            "Confirmed         0\n",
            "Deaths            0\n",
            "Recovered         0\n",
            "Active            0\n",
            "New cases         0\n",
            "New deaths        0\n",
            "New recovered     0\n",
            "WHO Region        0\n",
            "dtype: int64\n"
          ]
        }
      ]
    },
    {
      "cell_type": "code",
      "source": [],
      "metadata": {
        "id": "liHWKcyXk6Vu"
      },
      "execution_count": null,
      "outputs": []
    }
  ]
}